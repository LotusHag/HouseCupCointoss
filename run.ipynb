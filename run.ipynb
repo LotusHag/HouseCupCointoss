{
 "cells": [
  {
   "cell_type": "code",
   "execution_count": 1,
   "metadata": {},
   "outputs": [],
   "source": [
    "#imports\n",
    "from functions import team_assigner\n",
    "from functions import run_tester"
   ]
  },
  {
   "cell_type": "code",
   "execution_count": 2,
   "metadata": {},
   "outputs": [],
   "source": [
    "# Fill in the amounts for Lapis and Gold\n",
    "Lapis = 38\n",
    "Gold = 33"
   ]
  },
  {
   "cell_type": "code",
   "execution_count": 3,
   "metadata": {},
   "outputs": [
    {
     "name": "stdout",
     "output_type": "stream",
     "text": [
      "-------Team Assigner Output-------\n",
      "Threshold: 6000 with 38 Lapis members and 33 Gold members\n",
      "Next member goes to Team Lapis\n",
      "-------Run Tester Output-------\n",
      "Team Lapis 3987\n",
      "Team Gold 6013\n"
     ]
    }
   ],
   "source": [
    "# Function that tells you who the next member should go to\n",
    "team_assigner(Lapis,Gold)\n",
    "\n",
    "# Function that showcases team_assigner actually skewing the numbers randomly and correctly\n",
    "# The first number is the amount of runs you want it to do.\n",
    "run_tester(10000, Lapis, Gold)"
   ]
  }
 ],
 "metadata": {
  "kernelspec": {
   "display_name": "base",
   "language": "python",
   "name": "python3"
  },
  "language_info": {
   "codemirror_mode": {
    "name": "ipython",
    "version": 3
   },
   "file_extension": ".py",
   "mimetype": "text/x-python",
   "name": "python",
   "nbconvert_exporter": "python",
   "pygments_lexer": "ipython3",
   "version": "3.11.7"
  }
 },
 "nbformat": 4,
 "nbformat_minor": 2
}
